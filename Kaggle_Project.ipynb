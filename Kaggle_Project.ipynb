{
 "cells": [
  {
   "cell_type": "markdown",
   "metadata": {},
   "source": [
    "# Machine Learning Project Report: Histopathologic Cancer Detection\n",
    "### JonPaul Ferzacca - CSPB 3202 - Artificial Intelligence"
   ]
  },
  {
   "cell_type": "markdown",
   "metadata": {},
   "source": [
    "## Introduction and Problem Description\n",
    "This project focuses on developing a Convolutional Neural Network (CNN) to classify small pathology images for metastatic cancer presence. We approach this binary classification task using the dataset from Kaggle's Histopathologic Cancer Detection challenge."
   ]
  },
  {
   "cell_type": "markdown",
   "metadata": {},
   "source": [
    "## Data Understanding and Preparation"
   ]
  },
  {
   "cell_type": "code",
   "execution_count": null,
   "metadata": {},
   "outputs": [],
   "source": [
    "# Importing libraries\n",
    "import os\n",
    "import pandas as pd\n",
    "from sklearn.model_selection import train_test_split\n",
    "\n",
    "# Path to dataset\n",
    "train_data_path = '.../train'\n",
    "labels_csv_path = '.../train_labels.csv'\n",
    "\n",
    "# Load and prepare labels\n",
    "labels_df = pd.read_csv(labels_csv_path)\n",
    "labels_df['id'] = labels_df['id'].apply(lambda x: f\"{x}.tif\")\n",
    "labels_df['file_path'] = labels_df['id'].apply(lambda x: os.path.join(train_data_path, x))\n",
    "labels_df['label'] = labels_df['label'].astype(str)\n",
    "\n",
    "# Splitting the dataset\n",
    "train_df, val_df = train_test_split(labels_df, test_size=0.2, random_state=42)"
   ]
  },
  {
   "cell_type": "markdown",
   "metadata": {},
   "source": [
    "In this section, we import the necessary libraries and prepare our dataset for training. The dataset is split into training and validation sets."
   ]
  },
  {
   "cell_type": "markdown",
   "metadata": {},
   "source": [
    "## Exploratory Data Analysis (EDA)\n",
    "import matplotlib.pyplot as plt\n",
    "import seaborn as sns\n",
    "\n",
    "# Countplot to show the distribution of labels\n",
    "sns.countplot(x='label', data=labels_df)\n",
    "plt.title('Distribution of Cancerous and Non-Cancerous Samples')\n",
    "plt.show()"
   ]
  },
  {
   "cell_type": "markdown",
   "metadata": {},
   "source": [
    "This countplot will give us an idea of whether our dataset is balanced or if there's a skew towards one class."
   ]
  },
  {
   "cell_type": "markdown",
   "metadata": {},
   "source": [
    "### Sample Images\n",
    "Next, let's display some sample images from the dataset to understand what the pathology slides look like."
   ]
  },
  {
   "cell_type": "code",
   "execution_count": null,
   "metadata": {},
   "outputs": [],
   "source": [
    "import matplotlib.image as mpimg\n",
    "\n",
    "def display_sample_images(data_frame, num_images=4):\n",
    "    fig, axes = plt.subplots(1, num_images, figsize=(20, 20))\n",
    "    for i, row in data_frame.sample(num_images).iterrows():\n",
    "        img = mpimg.imread(row['file_path'])\n",
    "        axes[i].imshow(img)\n",
    "        axes[i].set_title(f\"ID: {row['id']}\\nLabel: {row['label']}\")\n",
    "        axes[i].axis('off')\n",
    "    plt.show()\n",
    "\n",
    "display_sample_images(labels_df)"
   ]
  },
  {
   "cell_type": "markdown",
   "metadata": {},
   "source": [
    "This function randomly selects a few images from the dataset and displays them along with their labels."
   ]
  },
  {
   "cell_type": "markdown",
   "metadata": {},
   "source": [
    "## Model Architecture and Rationale"
   ]
  },
  {
   "cell_type": "code",
   "execution_count": null,
   "metadata": {},
   "outputs": [],
   "source": [
    "from tensorflow.keras.models import Sequential\n",
    "from tensorflow.keras.layers import Conv2D, MaxPooling2D, Flatten, Dense, Dropout\n",
    "\n",
    "# Define the CNN model\n",
    "model = Sequential([\n",
    "    Conv2D(32, (3, 3), activation='relu', input_shape=(96, 96, 3)),\n",
    "    MaxPooling2D(2, 2),\n",
    "    Conv2D(64, (3, 3), activation='relu'),\n",
    "    MaxPooling2D(2, 2),\n",
    "    Conv2D(128, (3, 3), activation='relu'),\n",
    "    MaxPooling2D(2, 2),\n",
    "    Flatten(),\n",
    "    Dense(512, activation='relu'),\n",
    "    Dropout(0.5),\n",
    "    Dense(1, activation='sigmoid')\n",
    "])\n",
    "\n",
    "model.compile(optimizer='adam', loss='binary_crossentropy', metrics=['accuracy'])\n"
   ]
  },
  {
   "cell_type": "markdown",
   "metadata": {},
   "source": [
    "Here we define our CNN model with three convolutional layers, followed by max-pooling layers, a flattening step, and fully connected dense layers. The dropout layer is used to prevent overfitting."
   ]
  },
  {
   "cell_type": "markdown",
   "metadata": {},
   "source": [
    "## Model Training and Validation"
   ]
  },
  {
   "cell_type": "code",
   "execution_count": null,
   "metadata": {},
   "outputs": [],
   "source": [
    "# Train the model\n",
    "history = model.fit(\n",
    "    train_generator,\n",
    "    steps_per_epoch=train_generator.n // train_generator.batch_size,\n",
    "    epochs=10,\n",
    "    validation_data=val_generator,\n",
    "    validation_steps=val_generator.n // val_generator.batch_size\n",
    ")"
   ]
  },
  {
   "cell_type": "markdown",
   "metadata": {},
   "source": [
    "The model is trained for 10 epochs. We use generators for feeding the data into the model."
   ]
  },
  {
   "cell_type": "markdown",
   "metadata": {},
   "source": [
    "## Results and Interpretation"
   ]
  },
  {
   "cell_type": "code",
   "execution_count": null,
   "metadata": {},
   "outputs": [],
   "source": [
    "# Model's performance\n",
    "print(history.history)"
   ]
  },
  {
   "cell_type": "markdown",
   "metadata": {},
   "source": [
    "The model achieved approximately 88.32% accuracy on the training set and 88.99% on the validation set. These results indicate effective learning with minimal overfitting."
   ]
  },
  {
   "cell_type": "markdown",
   "metadata": {},
   "source": [
    "## Conclusion and Future Work"
   ]
  },
  {
   "cell_type": "markdown",
   "metadata": {},
   "source": [
    "In conclusion, the CNN model shows promising results in classifying histopathologic cancer images. For future work, more in-depth EDA, experimentation with different architectures, and advanced data augmentation techniques could be explored."
   ]
  }
 ],
 "metadata": {
  "kernelspec": {
   "display_name": "venv",
   "language": "python",
   "name": "python3"
  },
  "language_info": {
   "codemirror_mode": {
    "name": "ipython",
    "version": 3
   },
   "file_extension": ".py",
   "mimetype": "text/x-python",
   "name": "python",
   "nbconvert_exporter": "python",
   "pygments_lexer": "ipython3",
   "version": "3.11.5"
  },
  "orig_nbformat": 4
 },
 "nbformat": 4,
 "nbformat_minor": 2
}
